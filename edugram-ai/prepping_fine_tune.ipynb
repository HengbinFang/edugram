{
 "cells": [
  {
   "cell_type": "code",
   "execution_count": 1,
   "metadata": {},
   "outputs": [
    {
     "name": "stdout",
     "output_type": "stream",
     "text": [
      "Processed 673 lines.\n"
     ]
    }
   ],
   "source": [
    "import csv\n",
    "\n",
    "def deEmojify(inputString):\n",
    "    return inputString.encode('ascii', 'ignore').decode('ascii')\n",
    "\n",
    "with open('label_data.csv', encoding='utf8') as csv_file:\n",
    "    csv_reader = csv.reader(csv_file, delimiter='~')\n",
    "    line_count = 0\n",
    "    data = []\n",
    "    for row in csv_reader:\n",
    "        row[1] = deEmojify(row[1])\n",
    "        data.append(row)\n",
    "        line_count+=1\n",
    "    print(f'Processed {line_count} lines.')"
   ]
  },
  {
   "cell_type": "code",
   "execution_count": 2,
   "metadata": {},
   "outputs": [
    {
     "name": "stdout",
     "output_type": "stream",
     "text": [
      "336 336\n"
     ]
    }
   ],
   "source": [
    "good = 0\n",
    "bad = 0\n",
    "\n",
    "for x, k in enumerate(data):\n",
    "    if x == 0:\n",
    "        continue\n",
    "    else:\n",
    "        if len(k) != 4:\n",
    "            print(f\"Error: {x,k}\")\n",
    "            break\n",
    "        elif k[1] == \"1\":\n",
    "            good += 1\n",
    "        elif k[1] == \"0\":\n",
    "            bad += 1\n",
    "        else:\n",
    "            print(f\"MG: {x,k}\")\n",
    "\n",
    "print(good, bad)"
   ]
  },
  {
   "cell_type": "code",
   "execution_count": 3,
   "metadata": {},
   "outputs": [],
   "source": [
    "# PREPPING DATA\n",
    "\n",
    "import json\n",
    "\n",
    "copy_of_data = data.copy()"
   ]
  },
  {
   "cell_type": "code",
   "execution_count": 4,
   "metadata": {},
   "outputs": [],
   "source": [
    "copy_of_data.pop(0)\n",
    "\n",
    "for d in copy_of_data:\n",
    "    d.remove(d[0])"
   ]
  },
  {
   "cell_type": "code",
   "execution_count": 5,
   "metadata": {},
   "outputs": [],
   "source": [
    "training_data = []\n",
    "for ddd in copy_of_data:\n",
    "    appe = f\"\"\"{ddd[1]} | {ddd[2]}  ->\"\"\"\n",
    "    training_data.append(\n",
    "        {\n",
    "            \"prompt\": appe,\n",
    "            \"completion\": str(bool(int(ddd[0]))) + \".\"\n",
    "        }\n",
    "    )"
   ]
  },
  {
   "cell_type": "code",
   "execution_count": 6,
   "metadata": {},
   "outputs": [],
   "source": [
    "x1 = []\n",
    "x0 = []\n",
    "\n",
    "for x in training_data:\n",
    "    if x[\"completion\"] == \"False.\":\n",
    "        x0.append(x)\n",
    "    else:\n",
    "        x1.append(x)"
   ]
  },
  {
   "cell_type": "code",
   "execution_count": 7,
   "metadata": {},
   "outputs": [
    {
     "name": "stdout",
     "output_type": "stream",
     "text": [
      "336 336\n"
     ]
    }
   ],
   "source": [
    "print(len(x1), len(x0))\n",
    "\n",
    "# split dataset 80:20\n",
    "x1_train = x1[:int(len(x1)*0.8)]\n",
    "x1_test = x1[int(len(x1)*0.8):]\n",
    "\n",
    "\n",
    "x0_train = x0[:int(len(x0)*0.8)]\n",
    "x0_test = x0[int(len(x0)*0.8):]\n",
    "\n",
    "train = x1_train + x0_train\n",
    "val = x1_test + x0_test"
   ]
  },
  {
   "cell_type": "code",
   "execution_count": 8,
   "metadata": {},
   "outputs": [
    {
     "name": "stdout",
     "output_type": "stream",
     "text": [
      "Validation:  136\n",
      "Train:  536\n"
     ]
    }
   ],
   "source": [
    "print(\"Validation: \", len(val))\n",
    "print(\"Train: \", len(train))"
   ]
  },
  {
   "cell_type": "code",
   "execution_count": 15,
   "metadata": {},
   "outputs": [],
   "source": [
    "import random\n",
    "random.shuffle(val)"
   ]
  },
  {
   "cell_type": "code",
   "execution_count": 9,
   "metadata": {},
   "outputs": [
    {
     "data": {
      "text/plain": [
       "{'prompt': \"How to make a faceless youtube channel. #ai #aitools  | How to make a faceless YouTube money printer with AI? This method is so easy my left nut could do it. Step 1. I want you to go to vidIQ.com and let it tell you what are the best keywords and best topics for you to create your YouTube channel on. Step 2. You're going to go to ChatGPT and literally just give it a command that says, Hey, ChatGPT, can you give me 50 video ideas about this topic? Step 3. Go to Speechify.com, take that script, upload it. It'll create an actual voice reading that script. Step 4. Go to Video.io, take that script and that voice, upload it there. It'll create an entire video using amazing stock footage. Step 5. Canva.com, create yourself an amazing YouTube thumbnail. And then last step, go back to ChatGPT, say, Hey, write me a video title and a YouTube description for this video. Copy, paste, upload to YouTube. Do this once or twice a day consistently. You're going to make decent money off ad revenue, but I have a monetization method that is 10 times better than YouTube's dog water ad revenue, and it's not hard to find.  ->\",\n",
       " 'completion': 'True.'}"
      ]
     },
     "execution_count": 9,
     "metadata": {},
     "output_type": "execute_result"
    }
   ],
   "source": [
    "val[1]"
   ]
  },
  {
   "cell_type": "code",
   "execution_count": 35,
   "metadata": {},
   "outputs": [],
   "source": [
    "with open(\"training_data.jsonl\", \"w\", encoding=\"UTF-8\") as file:\n",
    "    for x in train:\n",
    "        file.write(json.dumps(x) + \"\\n\")"
   ]
  },
  {
   "cell_type": "code",
   "execution_count": null,
   "metadata": {},
   "outputs": [],
   "source": [
    "# This is the process I used for fine-tuning: https://platform.openai.com/docs/guides/fine-tuning\n",
    "\n",
    "# Use they're data preperation tool\n",
    "# Fine-Tune on Specified Model"
   ]
  },
  {
   "cell_type": "code",
   "execution_count": 30,
   "metadata": {},
   "outputs": [
    {
     "name": "stdout",
     "output_type": "stream",
     "text": [
      "{\n",
      "  \"id\": \"cmpl-7gfpo3ujBcTDj9AfTS37qHrxlrBXx\",\n",
      "  \"object\": \"text_completion\",\n",
      "  \"created\": 1690404944,\n",
      "  \"model\": \"ada:ft-personal-2023-07-24-17-57-29\",\n",
      "  \"choices\": [\n",
      "    {\n",
      "      \"text\": \" True\",\n",
      "      \"index\": 0,\n",
      "      \"logprobs\": {\n",
      "        \"tokens\": [\n",
      "          \" True\"\n",
      "        ],\n",
      "        \"token_logprobs\": [\n",
      "          -0.009088164\n",
      "        ],\n",
      "        \"top_logprobs\": [\n",
      "          {\n",
      "            \" False\": -4.9305844,\n",
      "            \" True\": -0.009088164\n",
      "          }\n",
      "        ],\n",
      "        \"text_offset\": [\n",
      "          858\n",
      "        ]\n",
      "      },\n",
      "      \"finish_reason\": \"stop\"\n",
      "    }\n",
      "  ],\n",
      "  \"usage\": {\n",
      "    \"prompt_tokens\": 198,\n",
      "    \"completion_tokens\": 1,\n",
      "    \"total_tokens\": 199\n",
      "  }\n",
      "}\n",
      "True.\n"
     ]
    }
   ],
   "source": [
    "import openai\n",
    "response = openai.Completion.create(\n",
    "      model=\"ada:ft-personal-2023-07-24-17-57-29\",\n",
    "      prompt=deEmojify(val[2][\"prompt\"]),\n",
    "      temperature=1,\n",
    "      top_p=1,\n",
    "      logprobs=2, # see probabilities of all of em\n",
    "      frequency_penalty=0,\n",
    "      presence_penalty=0,\n",
    "      stop=[\".\"]\n",
    "    )\n",
    "print(response)\n",
    "\n",
    "print(val[2][\"completion\"])\n",
    "\n",
    "# log probabilities to probabilities\n",
    "import math\n",
    "\n",
    "def logprobs_to_probs(logprobs):\n",
    "    probs = []\n",
    "    for x in logprobs:\n",
    "        probs.append(math.exp(x))\n",
    "    return probs\n",
    "\n"
   ]
  },
  {
   "cell_type": "code",
   "execution_count": 31,
   "metadata": {},
   "outputs": [
    {
     "name": "stdout",
     "output_type": "stream",
     "text": [
      "[0.007222281346628315, 0.9909530085404407]\n"
     ]
    }
   ],
   "source": [
    "\n",
    "print(\n",
    "    logprobs_to_probs(response[\"choices\"][0][\"logprobs\"][\"top_logprobs\"][0].values())\n",
    "    )"
   ]
  },
  {
   "cell_type": "code",
   "execution_count": 32,
   "metadata": {},
   "outputs": [
    {
     "name": "stdout",
     "output_type": "stream",
     "text": [
      "1 136\n",
      "2 136\n",
      "3 136\n",
      "4 136\n",
      "5 136\n",
      "6 136\n",
      "7 136\n",
      "8 136\n",
      "9 136\n",
      "10 136\n",
      "11 136\n",
      "12 136\n",
      "13 136\n",
      "14 136\n",
      "15 136\n",
      "16 136\n",
      "17 136\n",
      "18 136\n",
      "19 136\n",
      "20 136\n",
      "21 136\n",
      "22 136\n",
      "23 136\n",
      "24 136\n",
      "25 136\n",
      "26 136\n",
      "27 136\n",
      "28 136\n",
      "29 136\n",
      "30 136\n",
      "31 136\n",
      "32 136\n",
      "33 136\n",
      "34 136\n",
      "35 136\n",
      "36 136\n",
      "37 136\n",
      "38 136\n",
      "39 136\n",
      "40 136\n",
      "41 136\n",
      "42 136\n",
      "43 136\n",
      "44 136\n",
      "45 136\n",
      "46 136\n",
      "47 136\n",
      "48 136\n",
      "49 136\n",
      "50 136\n",
      "51 136\n",
      "52 136\n",
      "53 136\n",
      "54 136\n",
      "55 136\n",
      "56 136\n",
      "57 136\n",
      "58 136\n",
      "59 136\n",
      "60 136\n",
      "61 136\n",
      "62 136\n",
      "63 136\n",
      "64 136\n",
      "65 136\n",
      "66 136\n",
      "67 136\n",
      "68 136\n",
      "69 136\n",
      "70 136\n",
      "71 136\n",
      "72 136\n",
      "73 136\n",
      "74 136\n",
      "75 136\n",
      "76 136\n",
      "77 136\n",
      "78 136\n",
      "79 136\n",
      "80 136\n",
      "81 136\n",
      "82 136\n",
      "83 136\n",
      "84 136\n",
      "85 136\n",
      "86 136\n",
      "87 136\n",
      "88 136\n",
      "89 136\n",
      "90 136\n",
      "91 136\n",
      "92 136\n",
      "93 136\n",
      "94 136\n",
      "95 136\n",
      "96 136\n",
      "97 136\n",
      "98 136\n",
      "99 136\n",
      "100 136\n",
      "101 136\n",
      "102 136\n",
      "103 136\n",
      "104 136\n",
      "105 136\n",
      "106 136\n",
      "107 136\n",
      "108 136\n",
      "109 136\n",
      "110 136\n",
      "111 136\n",
      "112 136\n",
      "113 136\n",
      "114 136\n",
      "115 136\n",
      "116 136\n",
      "117 136\n",
      "118 136\n",
      "119 136\n",
      "120 136\n",
      "121 136\n",
      "122 136\n",
      "123 136\n",
      "124 136\n",
      "125 136\n",
      "126 136\n",
      "127 136\n",
      "128 136\n",
      "129 136\n",
      "130 136\n",
      "131 136\n",
      "132 136\n",
      "133 136\n",
      "134 136\n",
      "135 136\n",
      "136 136\n"
     ]
    }
   ],
   "source": [
    "import openai\n",
    "\n",
    "correct = 0\n",
    "wrong = 0\n",
    "c = 0\n",
    "\n",
    "for x in val:\n",
    "    response = openai.Completion.create(\n",
    "      model=\"ada:ft-personal-2023-07-24-17-57-29\",\n",
    "      prompt=deEmojify(x[\"prompt\"]),\n",
    "      temperature=1,\n",
    "      max_tokens=256,\n",
    "      top_p=1,\n",
    "      frequency_penalty=0,\n",
    "      presence_penalty=0,\n",
    "      stop=[\".\"]\n",
    "    )\n",
    "    c+=1\n",
    "    print(c, len(val))\n",
    "    is_true = \"true\" in response[\"choices\"][0][\"text\"].lower()\n",
    "    label_is_true = \"true\" in x[\"completion\"].lower()\n",
    "\n",
    "    if is_true == label_is_true:\n",
    "      correct += 1\n",
    "    else:\n",
    "      wrong += 1\n"
   ]
  },
  {
   "cell_type": "code",
   "execution_count": 32,
   "metadata": {},
   "outputs": [
    {
     "name": "stdout",
     "output_type": "stream",
     "text": [
      "124 12\n"
     ]
    }
   ],
   "source": [
    "# Curie\n",
    "print(correct, wrong)"
   ]
  },
  {
   "cell_type": "code",
   "execution_count": 31,
   "metadata": {},
   "outputs": [
    {
     "name": "stdout",
     "output_type": "stream",
     "text": [
      "0.9117647058823529\n"
     ]
    }
   ],
   "source": [
    "print(correct/(correct+wrong))"
   ]
  },
  {
   "cell_type": "code",
   "execution_count": 33,
   "metadata": {},
   "outputs": [
    {
     "name": "stdout",
     "output_type": "stream",
     "text": [
      "118 18\n"
     ]
    }
   ],
   "source": [
    "# Ada\n",
    "print(correct, wrong)"
   ]
  },
  {
   "cell_type": "code",
   "execution_count": 34,
   "metadata": {},
   "outputs": [
    {
     "name": "stdout",
     "output_type": "stream",
     "text": [
      "0.8676470588235294\n"
     ]
    }
   ],
   "source": [
    "print(correct/(correct+wrong))"
   ]
  },
  {
   "cell_type": "code",
   "execution_count": null,
   "metadata": {},
   "outputs": [],
   "source": []
  }
 ],
 "metadata": {
  "kernelspec": {
   "display_name": "Python 3",
   "language": "python",
   "name": "python3"
  },
  "language_info": {
   "codemirror_mode": {
    "name": "ipython",
    "version": 3
   },
   "file_extension": ".py",
   "mimetype": "text/x-python",
   "name": "python",
   "nbconvert_exporter": "python",
   "pygments_lexer": "ipython3",
   "version": "3.8.5"
  },
  "orig_nbformat": 4
 },
 "nbformat": 4,
 "nbformat_minor": 2
}
